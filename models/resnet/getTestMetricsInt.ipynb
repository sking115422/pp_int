{
 "cells": [
  {
   "cell_type": "code",
   "execution_count": 1,
   "metadata": {},
   "outputs": [],
   "source": [
    "import json\n",
    "import os\n",
    "import pandas as pd\n",
    "from PIL import Image, ImageDraw, ImageFont\n",
    "\n",
    "# pd.set_option('display.max_columns', None)\n",
    "# pd.set_option('display.max_rows', None)"
   ]
  },
  {
   "cell_type": "code",
   "execution_count": 2,
   "metadata": {},
   "outputs": [],
   "source": [
    "# Reading in results\n",
    "### bbox format: (x1, y1, x2, y2)\n",
    "\n",
    "with open(\"/home/user/pp_int/models/resnet/res_out_dir/results.json\", \"r\") as f:\n",
    "    res_obj = json.load(f)"
   ]
  },
  {
   "cell_type": "code",
   "execution_count": 3,
   "metadata": {},
   "outputs": [],
   "source": [
    "# Reading in ground truth\n",
    "### bbox format: (x1, y1, w, h)\n",
    "\n",
    "in_gt_dir = \"/mnt/nis_lab_research/data/coco_files/test/test1_neg_se_20\"\n",
    "with open(os.path.join(in_gt_dir, \"result.json\"), \"r\") as f:\n",
    "    coco_gt_obj = json.load(f)"
   ]
  },
  {
   "cell_type": "code",
   "execution_count": 4,
   "metadata": {},
   "outputs": [],
   "source": [
    "res_map = {}\n",
    "\n",
    "for res in res_obj:\n",
    "    fn = os.path.basename(res[\"file_name\"])\n",
    "    res_map[fn] = res"
   ]
  },
  {
   "cell_type": "code",
   "execution_count": 5,
   "metadata": {},
   "outputs": [
    {
     "data": {
      "text/plain": [
       "[{'id': 0, 'name': 'Accept Button'},\n",
       " {'id': 1, 'name': 'Advertisement'},\n",
       " {'id': 2, 'name': 'Alert Notification'},\n",
       " {'id': 3, 'name': 'Allow Button'},\n",
       " {'id': 4, 'name': 'Checkbox'},\n",
       " {'id': 5, 'name': 'Click Captcha'},\n",
       " {'id': 6, 'name': 'Close Button'},\n",
       " {'id': 7, 'name': 'Download Button'},\n",
       " {'id': 8, 'name': 'Email Input Box'},\n",
       " {'id': 9, 'name': 'Login Button'},\n",
       " {'id': 10, 'name': 'Logo'},\n",
       " {'id': 11, 'name': 'Name Input Box'},\n",
       " {'id': 12, 'name': 'Password Input Box'},\n",
       " {'id': 13, 'name': 'Phone Input Box'},\n",
       " {'id': 14, 'name': 'Play Button'},\n",
       " {'id': 15, 'name': 'Popup'},\n",
       " {'id': 16, 'name': 'Random'},\n",
       " {'id': 17, 'name': 'Submit Button'},\n",
       " {'id': 18, 'name': 'Toggle Button'},\n",
       " {'id': 19, 'name': 'Update Button'}]"
      ]
     },
     "execution_count": 5,
     "metadata": {},
     "output_type": "execute_result"
    }
   ],
   "source": [
    "coco_gt_obj[\"categories\"]"
   ]
  },
  {
   "cell_type": "code",
   "execution_count": 6,
   "metadata": {},
   "outputs": [],
   "source": [
    "# Group By Image\n",
    "\n",
    "imgs_gt_pred_list = {}\n",
    "\n",
    "tot_num_pred = 0\n",
    "tot_num_gt = 0\n",
    "\n",
    "for img in coco_gt_obj[\"images\"]:\n",
    "    fn1 = img[\"file_name\"].split(\"/\")[-1]\n",
    "    img_id = img[\"id\"]\n",
    "    \n",
    "    gt_list = []\n",
    "\n",
    "    for ann1 in coco_gt_obj[\"annotations\"]:\n",
    "        if img_id == ann1[\"image_id\"]:\n",
    "            x1 = ann1[\"bbox\"][0]\n",
    "            y1 = ann1[\"bbox\"][1]\n",
    "            w = ann1[\"bbox\"][2]\n",
    "            h = ann1[\"bbox\"][3]\n",
    "            gt_list.append([x1, y1, w, h, ann1[\"category_id\"]])\n",
    "            tot_num_gt += 1\n",
    "    \n",
    "    pred_list = []\n",
    "    \n",
    "    for ann2 in res_map[fn1][\"annotations\"]:\n",
    "        bbox2 = ann2[\"bbox\"]\n",
    "        \n",
    "        ann2_cat_id = \"\"\n",
    "        for cat in coco_gt_obj[\"categories\"]:\n",
    "            if cat[\"name\"] == ann2[\"category_id\"]:\n",
    "                ann2_cat_id = cat[\"id\"]\n",
    "                break\n",
    "                \n",
    "        bbox2.append(ann2_cat_id)\n",
    "        pred_list.append(bbox2)\n",
    "        tot_num_pred += 1\n",
    "    \n",
    "    imgs_gt_pred_list[fn1] = [gt_list, pred_list]\n",
    "            \n",
    "\n"
   ]
  },
  {
   "cell_type": "code",
   "execution_count": 7,
   "metadata": {},
   "outputs": [
    {
     "name": "stdout",
     "output_type": "stream",
     "text": [
      "1827\n",
      "273\n"
     ]
    }
   ],
   "source": [
    "print(tot_num_pred)\n",
    "print(tot_num_gt)"
   ]
  },
  {
   "cell_type": "code",
   "execution_count": 8,
   "metadata": {},
   "outputs": [],
   "source": [
    "keys = list(imgs_gt_pred_list.keys())\n"
   ]
  },
  {
   "cell_type": "code",
   "execution_count": 9,
   "metadata": {},
   "outputs": [],
   "source": [
    "def calculate_iou(box1, box2):\n",
    "    # Extract x, y, w, h from the input boxes\n",
    "    \n",
    "    x1 = box1[0]\n",
    "    y1 = box1[1] \n",
    "    w1 = box1[2] \n",
    "    h1 = box1[3]\n",
    "    \n",
    "    x2 = box2[0]\n",
    "    y2 = box2[1] \n",
    "    w2 = box2[2] \n",
    "    h2 = box2[3]\n",
    "    \n",
    "    # Determine the coordinates of the intersection rectangle\n",
    "    x_intersect = max(x1, x2)\n",
    "    y_intersect = max(y1, y2)\n",
    "    w_intersect = min(x1 + w1, x2 + w2) - x_intersect\n",
    "    h_intersect = min(y1 + h1, y2 + h2) - y_intersect\n",
    "    \n",
    "    # Ensure the intersection width and height are non-negative\n",
    "    w_intersect = max(0, w_intersect)\n",
    "    h_intersect = max(0, h_intersect)\n",
    "    \n",
    "    # Compute the area of intersection rectangle\n",
    "    interArea = w_intersect * h_intersect\n",
    "    \n",
    "    # Compute the area of both the prediction and true bounding boxes\n",
    "    box1Area = w1 * h1\n",
    "    box2Area = w2 * h2\n",
    "    \n",
    "    # Compute the area of union\n",
    "    unionArea = box1Area + box2Area - interArea\n",
    "    \n",
    "    # Compute the Intersection over Union by dividing the intersection area by the union area\n",
    "    iou = interArea / unionArea if unionArea > 0 else 0.0\n",
    "    \n",
    "    return iou\n"
   ]
  },
  {
   "cell_type": "code",
   "execution_count": 10,
   "metadata": {},
   "outputs": [],
   "source": [
    "def calculate_int(boxA, boxB):\n",
    "    \n",
    "    # Determine the coordinates of the intersection rectangle\n",
    "    xA = max(boxA[0], boxB[0])\n",
    "    yA = max(boxA[1], boxB[1])\n",
    "    xB = min(boxA[2], boxB[2])\n",
    "    yB = min(boxA[3], boxB[3])\n",
    "    \n",
    "    # Compute the area of intersection rectangle\n",
    "    interArea = max(0, xB - xA) * max(0, yB - yA)\n",
    "    \n",
    "    return interArea"
   ]
  },
  {
   "cell_type": "code",
   "execution_count": 11,
   "metadata": {},
   "outputs": [],
   "source": [
    "def draw_bounding_boxes(image_path, gt_bbox_list, pred_bbox_list, output_path, width=3):\n",
    "    # Open the image\n",
    "    image = Image.open(image_path)\n",
    "    draw = ImageDraw.Draw(image)\n",
    "\n",
    "    # Load a font\n",
    "    font = ImageFont.load_default()\n",
    "\n",
    "    # Draw bounding boxes and labels\n",
    "    for bbox in gt_bbox_list:\n",
    "        x, y, w, h, label = bbox\n",
    "        draw.rectangle([x, y, x+w, y+h], outline=\"blue\", width=width)\n",
    "        draw.text((x, y), str(label), fill=\"blue\", font=font)\n",
    "        \n",
    "    # Draw bounding boxes and labels\n",
    "    for bbox in pred_bbox_list:\n",
    "        x, y, w, h, label = bbox\n",
    "        draw.rectangle([x, y, x+w, y+h], outline=\"red\", width=width)\n",
    "        draw.text((x, y), str(label), fill=\"red\", font=font)\n",
    "\n",
    "    # Save the new image\n",
    "    image.save(output_path)"
   ]
  },
  {
   "cell_type": "code",
   "execution_count": 12,
   "metadata": {},
   "outputs": [],
   "source": [
    "thold = .50"
   ]
  },
  {
   "cell_type": "code",
   "execution_count": 13,
   "metadata": {},
   "outputs": [],
   "source": [
    "iou_scores = []\n",
    "\n",
    "comp_base_dir = \"./comp\"\n",
    "os.makedirs(comp_base_dir, exist_ok=True)\n",
    "\n",
    "for key in keys:\n",
    "    gts = imgs_gt_pred_list[key][0]\n",
    "    preds = imgs_gt_pred_list[key][1]\n",
    "    \n",
    "    draw_bounding_boxes(os.path.join(in_gt_dir, \"images\", key) , gts, preds, os.path.join(comp_base_dir, key)) \n",
    "    \n",
    "    for i, pred in enumerate(preds):\n",
    "        for j, gt in enumerate(gts):\n",
    "            if int(pred[4]) == int(gt[4]):\n",
    "                iou = calculate_iou(pred, gt)\n",
    "                iou_scores.append([key, i, j, iou])\n",
    "                \n",
    "iou_scores_df = pd.DataFrame(iou_scores, columns=[\"fn\", \"pred_ind\", \"gt_ind\", \"iou\"])"
   ]
  },
  {
   "cell_type": "code",
   "execution_count": 14,
   "metadata": {},
   "outputs": [
    {
     "data": {
      "text/plain": [
       "187"
      ]
     },
     "execution_count": 14,
     "metadata": {},
     "output_type": "execute_result"
    }
   ],
   "source": [
    "len(iou_scores_df[iou_scores_df[\"iou\"] > 0])"
   ]
  },
  {
   "cell_type": "code",
   "execution_count": 15,
   "metadata": {},
   "outputs": [],
   "source": [
    "iou_scores_df_g = iou_scores_df.groupby('fn')"
   ]
  },
  {
   "cell_type": "code",
   "execution_count": 16,
   "metadata": {},
   "outputs": [
    {
     "name": "stdout",
     "output_type": "stream",
     "text": [
      "0OIksf6yJXACtA9I-legalzoom_ss.png\n",
      "1Rk264flsJusg9Jg-technicalgaurav_ss.png\n",
      "1lO4s2Zt0zTFtW3U-amraandelma_ss.png\n",
      "203FEtzEOm7dZ8Sz-dedicatedcore_ss.png\n",
      "51Wgaq4GYYvAZH1H-ipcc_ss.png\n",
      "5boADp7PkvOokhes-michaelschenkerhimself_ss.png\n",
      "5dfgMzx6cj57loMN-em_ss.png\n",
      "5nKtKAIuJS7qF9jc-ip2location_ss.png\n",
      "5uBsPCCs5DBtpvq0-psu_ss.png\n",
      "68O8MADx81sNrUrH-firsttactical_ss.png\n",
      "75PoBRweHOvPeU1n-duosecurity_ss.png\n",
      "8tavdem92XOxpUDE-whattheythink_ss.png\n",
      "9iwsXaOHCQGoFO7J-medlineplus_ss.png\n",
      "AhdC8513hQv3YrAT-biblegateway_ss.png\n",
      "EuI0U0g2CmNB6scH-yabbycasino_ss.png\n",
      "FzwcfJHvhY7NWzgs-makebelieveco_ss.png\n",
      "GPNnwNGJ9DydyxpO-duke_ss.png\n",
      "HwAFDBBbkgkpziTK-gameyum_ss.png\n",
      "J0XY909gBZa6nutK-realcomm_ss.png\n",
      "L9mvrtbV8iN3dpnz-clutchy_ss.png\n",
      "L9oDbA9sni99lgdr-brightspace_ss.png\n",
      "LgTCcgKP5TdxPSX4-gettyimages_ss.png\n",
      "MtkJC8YU2AMBodgL-embark-studios_ss.png\n",
      "NhQGolKrlBsuozDX-nasoya_ss.png\n",
      "OREwbBWyTcmCdpD8-golden-road_ss.png\n",
      "ORwrbnhoFWRdPieY-avg_ss.png\n",
      "OUTKuwrroO01X3yP-corebook_ss.png\n",
      "OvzuzAHWdefEjdZP-prednisolone_ss.png\n",
      "PqYXAZ9HCb4czSDA-shopify_ss.png\n",
      "QNdJuEakVFnJTMgq-uptodown_ss.png\n",
      "QZ15ZiP2w6a1Bxis-nodejs_ss.png\n",
      "QdJg6gPyb9ay6eF7-credential_ss.png\n",
      "QpRcDgQ1Eq2MbeFC-dogsimity_ss.png\n",
      "QzIrE20IDb1dbKIc-aims-communities_ss.png\n",
      "R1HUIiEtlr30eXg6-b2bmarketing_ss.png\n",
      "RdWmshT5KifNvM37-foureyes_ss.png\n",
      "S6SlsipLvSWUklfV-newvisions_ss.png\n",
      "Tcw46geZluDXqvyQ-odva_ss.png\n",
      "Tlytmzuyou0THGI1-cgtrader_ss.png\n",
      "TqYc8zUrx4DjkAEq-site44_ss.png\n",
      "Ut7KCPnQhLthp0RW-lifewire_ss.png\n",
      "XqYQ7qWfDWhNPrJe-rushmorelm_ss.png\n",
      "Z7aWEqOxUByGAyCF-lesbrown_ss.png\n",
      "aGRG9H0oPiHGLDEA-dognutrition_ss.png\n",
      "b12AVGFM3lA4v2C0-shortcutsolutions_ss.png\n",
      "c5rfWS6qR8UwzHcs-filepress_ss.png\n",
      "ceVOTZ0RRVRteAg5-gwdocs_ss.png\n",
      "d4Vy5isH6dF6dWzW-centrebet_ss.png\n",
      "fG5R7xo40ZqHmcMC-henryharvin_ss.png\n",
      "fKqL3lpMutF0P281-palmplaystore_ss.png\n",
      "gSjqkKalye9P58rc-furniturebox_ss.png\n",
      "hHVBOAaEuHFjAU1y-uca_ss.png\n",
      "hLv3ijm31G1URmH6-navyfederal_ss.png\n",
      "j0OhcAsN5sXJq0kN-simbecorion_ss.png\n",
      "jIDRchjfsMVN84Md-noursefarms_ss.png\n",
      "jaqGt2ca42EFsexz-birdever_ss.png\n",
      "lFHP7Sgya57dePEp-amatic_ss.png\n",
      "lFwWj6X5TD5lDUxy-thenewsgod_ss.png\n",
      "lJq2cMsno78Co9LJ-bitsysbrainfood_ss.png\n",
      "mce3mT9XDlRPwTt1-gaytorrent_ss.png\n",
      "mfLBFfBkq2S7hCGi-thedeaconsbench_ss.png\n",
      "mvMrbAN4YcsOqKnf-adr_ss.png\n",
      "oh1FJe2dfdJdFiXg-membean_ss.png\n",
      "pZRIrXgH8DFEF45Q-watchguard_ss.png\n",
      "ptodWPlZ6mTGRapk-ernest_ss.png\n",
      "qpEHO3Vi2lARSx6v-fs19mods_ss.png\n",
      "rFEzNSbFKFcGeSyW-desertcart_ss.png\n",
      "rzKmhNVwwnNJfYO0-findhussies_ss.png\n",
      "sG6sD6hONYSCfJcO-centerforoffshoresafety_ss.png\n",
      "tFAZVKgxLm5pmRWs-thegeschaft_ss.png\n",
      "tLTU36rFU6ZpoNoi-twistedmexi_ss.png\n",
      "tof4mTWQkTh1zRSe-oasiscannabis_ss.png\n",
      "voOWFiDkie0IZnVj-newslake_ss.png\n",
      "voQEJeySdwE7xm7C-1800accountant_ss.png\n",
      "xfiZJFRG1ziJhL45-dordt_ss.png\n",
      "yEWWVVj5OI2QcSAL-autoblow_ss.png\n",
      "yWDMfFF1CRhmjnT3-yoteathletics_ss.png\n",
      "yeBtf8b82y4mA0Bs-kamleshyadav_ss.png\n",
      "ywBn0xghn3WcSMAw-wpengine_ss.png\n",
      "zGC42Fl5osvIaHh7-jcs_ss.png\n",
      "zJn4oma1nSLFgk2n-uateka_ss.png\n",
      "zvcHOYASiLtPFpsc-rodgab_ss.png\n"
     ]
    }
   ],
   "source": [
    "iou_full_g_dfs = []\n",
    "iou_corr_g_dfs = []\n",
    "iou_dang_g_pred_dfs = []\n",
    "iou_dang_g_gt_dfs = []\n",
    "conf_mat = []\n",
    "\n",
    "img_ctr = 0\n",
    "pred_gtr_gt_list = []\n",
    "gt_gtr_pred_list = []\n",
    "\n",
    "for name, group in iou_scores_df_g:\n",
    "    \n",
    "    print(name)\n",
    "    \n",
    "    df_subset = group[[\"fn\", \"pred_ind\", \"gt_ind\", \"iou\"]]\n",
    "    df_subset = df_subset.sort_values(by=\"iou\", ascending=False)\n",
    "    df_subset = df_subset.reset_index(drop=True)\n",
    "    \n",
    "    iou_full_g_dfs.append(df_subset)\n",
    "    tp = 0\n",
    "    \n",
    "    gt_list = list(df_subset[\"gt_ind\"])\n",
    "    pred_list = list(df_subset[\"pred_ind\"])\n",
    "        \n",
    "    gt_set = list(set(gt_list))\n",
    "    pred_set = list(set(pred_list))\n",
    "    \n",
    "    num_gt = len(gt_set)\n",
    "    num_pred = len(pred_set)\n",
    "    \n",
    "    data_corr = []\n",
    "    data_pred_dang = []\n",
    "    data_gt_dang = []\n",
    "    \n",
    "    rem_flag = 0\n",
    "    working_set = None\n",
    "    \n",
    "    # Number of predicted >= number of ground truths \n",
    "    if num_pred >= num_gt:\n",
    "        pred_gtr_gt_list.append(img_ctr)\n",
    "        working_set = pred_set\n",
    "        rem_flag = 1\n",
    "        \n",
    "    # Number of ground truths > number of predicted    \n",
    "    elif num_gt > num_pred:\n",
    "        gt_gtr_pred_list.append(img_ctr)\n",
    "        working_set = gt_set\n",
    "        rem_flag = 2\n",
    "\n",
    "    for i, row in df_subset.iterrows():\n",
    "        \n",
    "        if rem_flag == 1:\n",
    "            if row[\"pred_ind\"] in pred_set and row[\"iou\"] > thold:\n",
    "                data_corr.append(row)\n",
    "                pred_set.remove(row[\"pred_ind\"])\n",
    "                tp += 1\n",
    "            elif row[\"pred_ind\"] in pred_set:\n",
    "                data_pred_dang.append(row)\n",
    "                pred_set.remove(row[\"pred_ind\"])\n",
    "            elif not pred_set:\n",
    "                break\n",
    "        elif rem_flag == 2:\n",
    "            if row[\"gt_ind\"] in gt_set and row[\"iou\"] > thold:\n",
    "                data_corr.append(row)\n",
    "                gt_set.remove(row[\"gt_ind\"])\n",
    "                tp += 1\n",
    "            elif row[\"gt_ind\"] in gt_set:\n",
    "                data_gt_dang.append(row)\n",
    "                gt_set.remove(row[\"gt_ind\"])\n",
    "            elif not gt_set:\n",
    "                break\n",
    "\n",
    "    iou_corr_g_dfs.append(pd.DataFrame(data_corr))\n",
    "    iou_dang_g_pred_dfs.append(pd.DataFrame(data_pred_dang))\n",
    "    iou_dang_g_gt_dfs.append(pd.DataFrame(data_gt_dang))    \n",
    "    \n",
    "    fp = num_pred - tp\n",
    "    fn = num_gt - tp\n",
    "    \n",
    "    conf_mat.append([tp, fp, fn])\n",
    "    \n",
    "    img_ctr += 1"
   ]
  },
  {
   "cell_type": "code",
   "execution_count": 17,
   "metadata": {},
   "outputs": [],
   "source": [
    "tp_tot = 0\n",
    "fp_tot = 0\n",
    "fn_tot = 0\n",
    "\n",
    "for img in conf_mat:\n",
    "    tp_tot = tp_tot + img[0]\n",
    "    fp_tot = fp_tot + img[1]\n",
    "    # Would be equivalent to correctly identifying areas where no object is present... so we set it to 0 because it is not relevant\n",
    "    tn_tot = 0\n",
    "    fn_tot = fn_tot + img[2]\n",
    "    "
   ]
  },
  {
   "cell_type": "code",
   "execution_count": 18,
   "metadata": {},
   "outputs": [
    {
     "name": "stdout",
     "output_type": "stream",
     "text": [
      "tp_tot 130\n",
      "fp_tot 976\n",
      "tn_tot 0\n",
      "fn_tot 82\n"
     ]
    }
   ],
   "source": [
    "print(\"tp_tot\", tp_tot)\n",
    "print(\"fp_tot\", fp_tot)\n",
    "print(\"tn_tot\", tn_tot)\n",
    "print(\"fn_tot\", fn_tot)"
   ]
  },
  {
   "cell_type": "code",
   "execution_count": 19,
   "metadata": {},
   "outputs": [
    {
     "name": "stdout",
     "output_type": "stream",
     "text": [
      "82\n"
     ]
    }
   ],
   "source": [
    "print(len(pred_gtr_gt_list))"
   ]
  },
  {
   "cell_type": "code",
   "execution_count": 20,
   "metadata": {},
   "outputs": [
    {
     "name": "stdout",
     "output_type": "stream",
     "text": [
      "[0, 1, 2, 3, 4, 5, 6, 7, 8, 9, 10, 11, 12, 13, 14, 15, 16, 17, 18, 19, 20, 21, 22, 23, 24, 25, 26, 27, 28, 29, 30, 31, 32, 33, 34, 35, 36, 37, 38, 39, 40, 41, 42, 43, 44, 45, 46, 47, 48, 49, 50, 51, 52, 53, 54, 55, 56, 57, 58, 59, 60, 61, 62, 63, 64, 65, 66, 67, 68, 69, 70, 71, 72, 73, 74, 75, 76, 77, 78, 79, 80, 81]\n",
      "[]\n"
     ]
    }
   ],
   "source": [
    "print(pred_gtr_gt_list)\n",
    "print(gt_gtr_pred_list)"
   ]
  },
  {
   "cell_type": "code",
   "execution_count": 21,
   "metadata": {},
   "outputs": [],
   "source": [
    "voi = 11"
   ]
  },
  {
   "cell_type": "code",
   "execution_count": 22,
   "metadata": {},
   "outputs": [
    {
     "data": {
      "text/html": [
       "<div>\n",
       "<style scoped>\n",
       "    .dataframe tbody tr th:only-of-type {\n",
       "        vertical-align: middle;\n",
       "    }\n",
       "\n",
       "    .dataframe tbody tr th {\n",
       "        vertical-align: top;\n",
       "    }\n",
       "\n",
       "    .dataframe thead th {\n",
       "        text-align: right;\n",
       "    }\n",
       "</style>\n",
       "<table border=\"1\" class=\"dataframe\">\n",
       "  <thead>\n",
       "    <tr style=\"text-align: right;\">\n",
       "      <th></th>\n",
       "      <th>fn</th>\n",
       "      <th>pred_ind</th>\n",
       "      <th>gt_ind</th>\n",
       "      <th>iou</th>\n",
       "    </tr>\n",
       "  </thead>\n",
       "  <tbody>\n",
       "    <tr>\n",
       "      <th>0</th>\n",
       "      <td>8tavdem92XOxpUDE-whattheythink_ss.png</td>\n",
       "      <td>15</td>\n",
       "      <td>1</td>\n",
       "      <td>0.0</td>\n",
       "    </tr>\n",
       "  </tbody>\n",
       "</table>\n",
       "</div>"
      ],
      "text/plain": [
       "                                      fn  pred_ind  gt_ind  iou\n",
       "0  8tavdem92XOxpUDE-whattheythink_ss.png        15       1  0.0"
      ]
     },
     "execution_count": 22,
     "metadata": {},
     "output_type": "execute_result"
    }
   ],
   "source": [
    "iou_full_g_dfs[voi]"
   ]
  },
  {
   "cell_type": "code",
   "execution_count": 23,
   "metadata": {},
   "outputs": [
    {
     "data": {
      "text/html": [
       "<div>\n",
       "<style scoped>\n",
       "    .dataframe tbody tr th:only-of-type {\n",
       "        vertical-align: middle;\n",
       "    }\n",
       "\n",
       "    .dataframe tbody tr th {\n",
       "        vertical-align: top;\n",
       "    }\n",
       "\n",
       "    .dataframe thead th {\n",
       "        text-align: right;\n",
       "    }\n",
       "</style>\n",
       "<table border=\"1\" class=\"dataframe\">\n",
       "  <thead>\n",
       "    <tr style=\"text-align: right;\">\n",
       "      <th></th>\n",
       "    </tr>\n",
       "  </thead>\n",
       "  <tbody>\n",
       "  </tbody>\n",
       "</table>\n",
       "</div>"
      ],
      "text/plain": [
       "Empty DataFrame\n",
       "Columns: []\n",
       "Index: []"
      ]
     },
     "execution_count": 23,
     "metadata": {},
     "output_type": "execute_result"
    }
   ],
   "source": [
    "iou_corr_g_dfs[voi]"
   ]
  },
  {
   "cell_type": "code",
   "execution_count": 24,
   "metadata": {},
   "outputs": [
    {
     "data": {
      "text/html": [
       "<div>\n",
       "<style scoped>\n",
       "    .dataframe tbody tr th:only-of-type {\n",
       "        vertical-align: middle;\n",
       "    }\n",
       "\n",
       "    .dataframe tbody tr th {\n",
       "        vertical-align: top;\n",
       "    }\n",
       "\n",
       "    .dataframe thead th {\n",
       "        text-align: right;\n",
       "    }\n",
       "</style>\n",
       "<table border=\"1\" class=\"dataframe\">\n",
       "  <thead>\n",
       "    <tr style=\"text-align: right;\">\n",
       "      <th></th>\n",
       "      <th>fn</th>\n",
       "      <th>pred_ind</th>\n",
       "      <th>gt_ind</th>\n",
       "      <th>iou</th>\n",
       "    </tr>\n",
       "  </thead>\n",
       "  <tbody>\n",
       "    <tr>\n",
       "      <th>0</th>\n",
       "      <td>8tavdem92XOxpUDE-whattheythink_ss.png</td>\n",
       "      <td>15</td>\n",
       "      <td>1</td>\n",
       "      <td>0.0</td>\n",
       "    </tr>\n",
       "  </tbody>\n",
       "</table>\n",
       "</div>"
      ],
      "text/plain": [
       "                                      fn  pred_ind  gt_ind  iou\n",
       "0  8tavdem92XOxpUDE-whattheythink_ss.png        15       1  0.0"
      ]
     },
     "execution_count": 24,
     "metadata": {},
     "output_type": "execute_result"
    }
   ],
   "source": [
    "iou_dang_g_pred_dfs[voi]"
   ]
  },
  {
   "cell_type": "code",
   "execution_count": 25,
   "metadata": {},
   "outputs": [
    {
     "data": {
      "text/html": [
       "<div>\n",
       "<style scoped>\n",
       "    .dataframe tbody tr th:only-of-type {\n",
       "        vertical-align: middle;\n",
       "    }\n",
       "\n",
       "    .dataframe tbody tr th {\n",
       "        vertical-align: top;\n",
       "    }\n",
       "\n",
       "    .dataframe thead th {\n",
       "        text-align: right;\n",
       "    }\n",
       "</style>\n",
       "<table border=\"1\" class=\"dataframe\">\n",
       "  <thead>\n",
       "    <tr style=\"text-align: right;\">\n",
       "      <th></th>\n",
       "    </tr>\n",
       "  </thead>\n",
       "  <tbody>\n",
       "  </tbody>\n",
       "</table>\n",
       "</div>"
      ],
      "text/plain": [
       "Empty DataFrame\n",
       "Columns: []\n",
       "Index: []"
      ]
     },
     "execution_count": 25,
     "metadata": {},
     "output_type": "execute_result"
    }
   ],
   "source": [
    "iou_dang_g_gt_dfs[voi]"
   ]
  },
  {
   "cell_type": "code",
   "execution_count": 26,
   "metadata": {},
   "outputs": [
    {
     "name": "stdout",
     "output_type": "stream",
     "text": [
      "accuracy:  0.10942760942760943\n",
      "precision:  0.11754068716094032\n",
      "recall:  0.6132075471698113\n",
      "f1_score:  0.19726858877086495\n"
     ]
    }
   ],
   "source": [
    "accuracy = (tp_tot + tn_tot) / (tp_tot + fp_tot + tn_tot + fn_tot)\n",
    "precision = tp_tot/(tp_tot + fp_tot)\n",
    "recall = tp_tot/(tp_tot + fn_tot)\n",
    "f1_score = 2 * (precision * recall) / (precision + recall)\n",
    "print(\"accuracy: \", accuracy)\n",
    "print(\"precision: \", precision)\n",
    "print(\"recall: \", recall)\n",
    "print(\"f1_score: \", f1_score)"
   ]
  },
  {
   "cell_type": "code",
   "execution_count": 27,
   "metadata": {},
   "outputs": [],
   "source": [
    "with open('./res_out_dir/metrics.txt', 'w+') as file:\n",
    "    file.write(f\"accuracy: {accuracy}\\n\")\n",
    "    file.write(f\"precision: {precision}\\n\")\n",
    "    file.write(f\"recall: {recall}\\n\")\n",
    "    file.write(f\"f1_score: {f1_score}\\n\")\n"
   ]
  }
 ],
 "metadata": {
  "kernelspec": {
   "display_name": "dtron2_venv",
   "language": "python",
   "name": "python3"
  },
  "language_info": {
   "codemirror_mode": {
    "name": "ipython",
    "version": 3
   },
   "file_extension": ".py",
   "mimetype": "text/x-python",
   "name": "python",
   "nbconvert_exporter": "python",
   "pygments_lexer": "ipython3",
   "version": "3.8.19"
  }
 },
 "nbformat": 4,
 "nbformat_minor": 2
}
